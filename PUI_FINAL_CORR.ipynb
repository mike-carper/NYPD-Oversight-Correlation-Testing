{
 "cells": [
  {
   "cell_type": "code",
   "execution_count": 22,
   "metadata": {},
   "outputs": [],
   "source": [
    "import pandas as pd\n",
    "import urllib.request\n",
    "import numpy as np\n",
    "import datetime\n",
    "import matplotlib.pyplot as plt\n",
    "from scipy.stats import pearsonr\n",
    "from scipy.stats import chisquare\n",
    "from scipy import stats"
   ]
  },
  {
   "cell_type": "code",
   "execution_count": 23,
   "metadata": {},
   "outputs": [
    {
     "name": "stdout",
     "output_type": "stream",
     "text": [
      "Number of entries: 44488\n",
      "\n"
     ]
    },
    {
     "data": {
      "text/html": [
       "<div>\n",
       "<style scoped>\n",
       "    .dataframe tbody tr th:only-of-type {\n",
       "        vertical-align: middle;\n",
       "    }\n",
       "\n",
       "    .dataframe tbody tr th {\n",
       "        vertical-align: top;\n",
       "    }\n",
       "\n",
       "    .dataframe thead th {\n",
       "        text-align: right;\n",
       "    }\n",
       "</style>\n",
       "<table border=\"1\" class=\"dataframe\">\n",
       "  <thead>\n",
       "    <tr style=\"text-align: right;\">\n",
       "      <th></th>\n",
       "      <th>Unnamed: 0</th>\n",
       "      <th>Unique Id</th>\n",
       "      <th>First Name</th>\n",
       "      <th>Last Name</th>\n",
       "      <th>Rank</th>\n",
       "      <th>Command</th>\n",
       "      <th>Complaint Id</th>\n",
       "      <th>Incident Date</th>\n",
       "      <th>precinct</th>\n",
       "      <th>allegation_num</th>\n",
       "      <th>...</th>\n",
       "      <th>Penalty_Force</th>\n",
       "      <th>Penalty_Offensive Language</th>\n",
       "      <th>substantiated_Abuse of Authority</th>\n",
       "      <th>substantiated_Force</th>\n",
       "      <th>substantiated_Discourtesy</th>\n",
       "      <th>substantiated_Offensive Language</th>\n",
       "      <th>nonsub_Force</th>\n",
       "      <th>nonsub_Abuse_of_Authority</th>\n",
       "      <th>nonsub_Discourtesy</th>\n",
       "      <th>nonsub_Offensive_Language</th>\n",
       "    </tr>\n",
       "  </thead>\n",
       "  <tbody>\n",
       "    <tr>\n",
       "      <th>49503</th>\n",
       "      <td>49504</td>\n",
       "      <td>64402</td>\n",
       "      <td>Xue</td>\n",
       "      <td>Gao</td>\n",
       "      <td>SGT</td>\n",
       "      <td>PROPCLK</td>\n",
       "      <td>201000008</td>\n",
       "      <td>2010-01-03</td>\n",
       "      <td>NaN</td>\n",
       "      <td>1</td>\n",
       "      <td>...</td>\n",
       "      <td>NaN</td>\n",
       "      <td>NaN</td>\n",
       "      <td>0</td>\n",
       "      <td>0</td>\n",
       "      <td>0</td>\n",
       "      <td>0</td>\n",
       "      <td>0</td>\n",
       "      <td>1</td>\n",
       "      <td>0</td>\n",
       "      <td>0</td>\n",
       "    </tr>\n",
       "    <tr>\n",
       "      <th>49504</th>\n",
       "      <td>49505</td>\n",
       "      <td>35391</td>\n",
       "      <td>Franklin</td>\n",
       "      <td>Rivera</td>\n",
       "      <td>POM</td>\n",
       "      <td>CO TR</td>\n",
       "      <td>201000009</td>\n",
       "      <td>2010-01-14</td>\n",
       "      <td>NaN</td>\n",
       "      <td>1</td>\n",
       "      <td>...</td>\n",
       "      <td>NaN</td>\n",
       "      <td>NaN</td>\n",
       "      <td>0</td>\n",
       "      <td>0</td>\n",
       "      <td>0</td>\n",
       "      <td>0</td>\n",
       "      <td>1</td>\n",
       "      <td>0</td>\n",
       "      <td>0</td>\n",
       "      <td>0</td>\n",
       "    </tr>\n",
       "    <tr>\n",
       "      <th>49505</th>\n",
       "      <td>49506</td>\n",
       "      <td>46186</td>\n",
       "      <td>Michael</td>\n",
       "      <td>Villa</td>\n",
       "      <td>POM</td>\n",
       "      <td>HWY 03</td>\n",
       "      <td>201000009</td>\n",
       "      <td>2010-01-14</td>\n",
       "      <td>NaN</td>\n",
       "      <td>5</td>\n",
       "      <td>...</td>\n",
       "      <td>NaN</td>\n",
       "      <td>NaN</td>\n",
       "      <td>0</td>\n",
       "      <td>0</td>\n",
       "      <td>0</td>\n",
       "      <td>0</td>\n",
       "      <td>1</td>\n",
       "      <td>2</td>\n",
       "      <td>2</td>\n",
       "      <td>0</td>\n",
       "    </tr>\n",
       "    <tr>\n",
       "      <th>49506</th>\n",
       "      <td>49507</td>\n",
       "      <td>20374</td>\n",
       "      <td>William</td>\n",
       "      <td>Glynn</td>\n",
       "      <td>CPT</td>\n",
       "      <td>081 PCT</td>\n",
       "      <td>201000010</td>\n",
       "      <td>2010-01-01</td>\n",
       "      <td>081</td>\n",
       "      <td>1</td>\n",
       "      <td>...</td>\n",
       "      <td>NaN</td>\n",
       "      <td>NaN</td>\n",
       "      <td>0</td>\n",
       "      <td>0</td>\n",
       "      <td>0</td>\n",
       "      <td>0</td>\n",
       "      <td>0</td>\n",
       "      <td>0</td>\n",
       "      <td>1</td>\n",
       "      <td>0</td>\n",
       "    </tr>\n",
       "    <tr>\n",
       "      <th>49507</th>\n",
       "      <td>49508</td>\n",
       "      <td>71658</td>\n",
       "      <td>Michael</td>\n",
       "      <td>Delvalle</td>\n",
       "      <td>POM</td>\n",
       "      <td>S O D</td>\n",
       "      <td>201000010</td>\n",
       "      <td>2010-01-01</td>\n",
       "      <td>NaN</td>\n",
       "      <td>3</td>\n",
       "      <td>...</td>\n",
       "      <td>NaN</td>\n",
       "      <td>NaN</td>\n",
       "      <td>0</td>\n",
       "      <td>0</td>\n",
       "      <td>0</td>\n",
       "      <td>0</td>\n",
       "      <td>0</td>\n",
       "      <td>3</td>\n",
       "      <td>0</td>\n",
       "      <td>0</td>\n",
       "    </tr>\n",
       "  </tbody>\n",
       "</table>\n",
       "<p>5 rows × 28 columns</p>\n",
       "</div>"
      ],
      "text/plain": [
       "       Unnamed: 0  Unique Id First Name Last Name Rank  Command  Complaint Id  \\\n",
       "49503       49504      64402        Xue       Gao  SGT  PROPCLK     201000008   \n",
       "49504       49505      35391   Franklin    Rivera  POM    CO TR     201000009   \n",
       "49505       49506      46186    Michael     Villa  POM   HWY 03     201000009   \n",
       "49506       49507      20374    William     Glynn  CPT  081 PCT     201000010   \n",
       "49507       49508      71658    Michael  Delvalle  POM    S O D     201000010   \n",
       "\n",
       "      Incident Date precinct  allegation_num  ...  Penalty_Force  \\\n",
       "49503    2010-01-03      NaN               1  ...            NaN   \n",
       "49504    2010-01-14      NaN               1  ...            NaN   \n",
       "49505    2010-01-14      NaN               5  ...            NaN   \n",
       "49506    2010-01-01      081               1  ...            NaN   \n",
       "49507    2010-01-01      NaN               3  ...            NaN   \n",
       "\n",
       "       Penalty_Offensive Language  substantiated_Abuse of Authority  \\\n",
       "49503                         NaN                                 0   \n",
       "49504                         NaN                                 0   \n",
       "49505                         NaN                                 0   \n",
       "49506                         NaN                                 0   \n",
       "49507                         NaN                                 0   \n",
       "\n",
       "       substantiated_Force  substantiated_Discourtesy  \\\n",
       "49503                    0                          0   \n",
       "49504                    0                          0   \n",
       "49505                    0                          0   \n",
       "49506                    0                          0   \n",
       "49507                    0                          0   \n",
       "\n",
       "       substantiated_Offensive Language  nonsub_Force  \\\n",
       "49503                                 0             0   \n",
       "49504                                 0             1   \n",
       "49505                                 0             1   \n",
       "49506                                 0             0   \n",
       "49507                                 0             0   \n",
       "\n",
       "       nonsub_Abuse_of_Authority  nonsub_Discourtesy  \\\n",
       "49503                          1                   0   \n",
       "49504                          0                   0   \n",
       "49505                          2                   2   \n",
       "49506                          0                   1   \n",
       "49507                          3                   0   \n",
       "\n",
       "       nonsub_Offensive_Language  \n",
       "49503                          0  \n",
       "49504                          0  \n",
       "49505                          0  \n",
       "49506                          0  \n",
       "49507                          0  \n",
       "\n",
       "[5 rows x 28 columns]"
      ]
     },
     "execution_count": 23,
     "metadata": {},
     "output_type": "execute_result"
    }
   ],
   "source": [
    "ccrb_data = pd.read_csv('PUI CCRB Allegations Narrow.csv', encoding = \"ISO-8859-1\", engine='python')\n",
    "pd.to_datetime(ccrb_data['Incident Date'])\n",
    "ccrb_data = ccrb_data[ccrb_data['Incident Date'] >= '2010-01-01']\n",
    "print('Number of entries:',ccrb_data.shape[0])\n",
    "print('')\n",
    "ccrb_data.head()"
   ]
  },
  {
   "cell_type": "code",
   "execution_count": 24,
   "metadata": {},
   "outputs": [],
   "source": [
    "sub_force = ccrb_data['substantiated_Force'].sum()\n",
    "unsub_force = ccrb_data['nonsub_Force'].sum()\n",
    "force = sub_force + unsub_force\n",
    "\n",
    "sub_abuse = ccrb_data['substantiated_Abuse of Authority'].sum()\n",
    "unsub_abuse = ccrb_data['nonsub_Abuse_of_Authority'].sum()\n",
    "abuse = sub_abuse + unsub_abuse\n",
    "\n",
    "sub_discourt = ccrb_data['substantiated_Discourtesy'].sum()\n",
    "unsub_discourt = ccrb_data['nonsub_Discourtesy'].sum()\n",
    "discourt = sub_discourt + unsub_discourt\n",
    "\n",
    "sub_offLang = ccrb_data['substantiated_Offensive Language'].sum()\n",
    "unsub_offLang = ccrb_data['nonsub_Offensive_Language'].sum()\n",
    "offensive_lang = sub_offLang + unsub_offLang"
   ]
  },
  {
   "cell_type": "code",
   "execution_count": 86,
   "metadata": {},
   "outputs": [
    {
     "name": "stdout",
     "output_type": "stream",
     "text": [
      "28.78306878306878 117.94285714285714 62.84488044144697 41.70040485829959\n"
     ]
    }
   ],
   "source": [
    "sub_rateF = (sub_force/force)*1000\n",
    "sub_rateA = (sub_abuse/abuse)*1000\n",
    "sub_rateD = (sub_discourt/discourt)*1000\n",
    "sub_rateO = (sub_offLang/offensive_lang)*1000\n",
    "print(sub_rateF, sub_rateA, sub_rateD, sub_rateO)"
   ]
  },
  {
   "cell_type": "code",
   "execution_count": 87,
   "metadata": {},
   "outputs": [
    {
     "data": {
      "text/html": [
       "<div>\n",
       "<style scoped>\n",
       "    .dataframe tbody tr th:only-of-type {\n",
       "        vertical-align: middle;\n",
       "    }\n",
       "\n",
       "    .dataframe tbody tr th {\n",
       "        vertical-align: top;\n",
       "    }\n",
       "\n",
       "    .dataframe thead th {\n",
       "        text-align: right;\n",
       "    }\n",
       "</style>\n",
       "<table border=\"1\" class=\"dataframe\">\n",
       "  <thead>\n",
       "    <tr style=\"text-align: right;\">\n",
       "      <th></th>\n",
       "      <th>Substantiation per 1000 Cases</th>\n",
       "    </tr>\n",
       "  </thead>\n",
       "  <tbody>\n",
       "    <tr>\n",
       "      <th>Force</th>\n",
       "      <td>28.783069</td>\n",
       "    </tr>\n",
       "    <tr>\n",
       "      <th>Abuse of Authority</th>\n",
       "      <td>117.942857</td>\n",
       "    </tr>\n",
       "    <tr>\n",
       "      <th>Discourtesy</th>\n",
       "      <td>62.844880</td>\n",
       "    </tr>\n",
       "    <tr>\n",
       "      <th>Offensive Language</th>\n",
       "      <td>41.700405</td>\n",
       "    </tr>\n",
       "  </tbody>\n",
       "</table>\n",
       "</div>"
      ],
      "text/plain": [
       "                    Substantiation per 1000 Cases\n",
       "Force                                   28.783069\n",
       "Abuse of Authority                     117.942857\n",
       "Discourtesy                             62.844880\n",
       "Offensive Language                      41.700405"
      ]
     },
     "execution_count": 87,
     "metadata": {},
     "output_type": "execute_result"
    }
   ],
   "source": [
    "data_rate = [sub_rateF, sub_rateA, sub_rateD, sub_rateO]\n",
    "df_rate = pd.DataFrame(data_rate, index=['Force', 'Abuse of Authority', 'Discourtesy', \n",
    "                              'Offensive Language'], columns=['Substantiation per 1000 Cases'])\n",
    "df_rate.head()"
   ]
  },
  {
   "cell_type": "code",
   "execution_count": 88,
   "metadata": {},
   "outputs": [
    {
     "data": {
      "text/html": [
       "<div>\n",
       "<style scoped>\n",
       "    .dataframe tbody tr th:only-of-type {\n",
       "        vertical-align: middle;\n",
       "    }\n",
       "\n",
       "    .dataframe tbody tr th {\n",
       "        vertical-align: top;\n",
       "    }\n",
       "\n",
       "    .dataframe thead th {\n",
       "        text-align: right;\n",
       "    }\n",
       "</style>\n",
       "<table border=\"1\" class=\"dataframe\">\n",
       "  <thead>\n",
       "    <tr style=\"text-align: right;\">\n",
       "      <th></th>\n",
       "      <th>Substantiated Cases</th>\n",
       "      <th>Unsubstantiated Cases</th>\n",
       "    </tr>\n",
       "  </thead>\n",
       "  <tbody>\n",
       "    <tr>\n",
       "      <th>Force</th>\n",
       "      <td>680</td>\n",
       "      <td>22945</td>\n",
       "    </tr>\n",
       "    <tr>\n",
       "      <th>Abuse of Authority</th>\n",
       "      <td>5160</td>\n",
       "      <td>38590</td>\n",
       "    </tr>\n",
       "    <tr>\n",
       "      <th>Discourtesy</th>\n",
       "      <td>820</td>\n",
       "      <td>12228</td>\n",
       "    </tr>\n",
       "    <tr>\n",
       "      <th>Offensive Language</th>\n",
       "      <td>103</td>\n",
       "      <td>2367</td>\n",
       "    </tr>\n",
       "  </tbody>\n",
       "</table>\n",
       "</div>"
      ],
      "text/plain": [
       "                    Substantiated Cases  Unsubstantiated Cases\n",
       "Force                               680                  22945\n",
       "Abuse of Authority                 5160                  38590\n",
       "Discourtesy                         820                  12228\n",
       "Offensive Language                  103                   2367"
      ]
     },
     "execution_count": 88,
     "metadata": {},
     "output_type": "execute_result"
    }
   ],
   "source": [
    "data_nums = [[sub_force, unsub_force] , [sub_abuse, unsub_abuse], [sub_discourt, unsub_discourt], \n",
    "             [sub_offLang, unsub_offLang]]\n",
    "df_nums = pd.DataFrame(data_nums, index=['Force', 'Abuse of Authority', 'Discourtesy', \n",
    "                              'Offensive Language'], columns=['Substantiated Cases','Unsubstantiated Cases'])\n",
    "df_nums.head()"
   ]
  },
  {
   "cell_type": "code",
   "execution_count": 95,
   "metadata": {},
   "outputs": [],
   "source": [
    "chi_f = ['-',chisquare([sub_force,unsub_force],[sub_abuse, unsub_abuse]),chisquare([sub_force, unsub_force],[sub_discourt, unsub_discourt]),chisquare([sub_force,unsub_force],[sub_offLang,unsub_offLang])]\n",
    "chi_a = [chisquare([sub_abuse, unsub_abuse],[sub_force,unsub_force]),'-',chisquare([sub_abuse,unsub_abuse],[sub_discourt, unsub_discourt]),chisquare([sub_abuse, unsub_abuse],[sub_offLang,unsub_offLang])]\n",
    "chi_d = [chisquare([sub_discourt, unsub_discourt],[sub_force,unsub_force]),chisquare([sub_discourt,unsub_discourt],[sub_abuse,unsub_abuse]),'-',chisquare([sub_discourt, unsub_discourt],[sub_offLang,unsub_offLang])]\n",
    "chi_o = [chisquare([sub_offLang, unsub_offLang],[sub_force,unsub_force]),chisquare([sub_offLang, unsub_offLang],[sub_abuse,unsub_abuse]),chisquare([sub_offLang,unsub_offLang],[sub_discourt,unsub_discourt]),'-']"
   ]
  },
  {
   "cell_type": "code",
   "execution_count": 96,
   "metadata": {},
   "outputs": [
    {
     "name": "stdout",
     "output_type": "stream",
     "text": [
      "Chi-Square Test Results Between Violation Categories - Critical Value: 3.841, Sig. Level = 0.05\n"
     ]
    },
    {
     "data": {
      "text/html": [
       "<div>\n",
       "<style scoped>\n",
       "    .dataframe tbody tr th:only-of-type {\n",
       "        vertical-align: middle;\n",
       "    }\n",
       "\n",
       "    .dataframe tbody tr th {\n",
       "        vertical-align: top;\n",
       "    }\n",
       "\n",
       "    .dataframe thead th {\n",
       "        text-align: right;\n",
       "    }\n",
       "</style>\n",
       "<table border=\"1\" class=\"dataframe\">\n",
       "  <thead>\n",
       "    <tr style=\"text-align: right;\">\n",
       "      <th></th>\n",
       "      <th>Force</th>\n",
       "      <th>Abuse of Authority</th>\n",
       "      <th>Discourtesy</th>\n",
       "      <th>Offensive Language</th>\n",
       "    </tr>\n",
       "  </thead>\n",
       "  <tbody>\n",
       "    <tr>\n",
       "      <th>Force</th>\n",
       "      <td>-</td>\n",
       "      <td>(10232.344328470042, 0.0)</td>\n",
       "      <td>(9416.614984003128, 0.0)</td>\n",
       "      <td>(182131.38418218135, 0.0)</td>\n",
       "    </tr>\n",
       "    <tr>\n",
       "      <th>Abuse of Authority</th>\n",
       "      <td>(40182.80446848602, 0.0)</td>\n",
       "      <td>-</td>\n",
       "      <td>(79803.33549550411, 0.0)</td>\n",
       "      <td>(802616.7672404953, 0.0)</td>\n",
       "    </tr>\n",
       "    <tr>\n",
       "      <th>Discourtesy</th>\n",
       "      <td>(5034.449548152231, 0.0)</td>\n",
       "      <td>(21658.992223152964, 0.0)</td>\n",
       "      <td>-</td>\n",
       "      <td>(46072.406290376166, 0.0)</td>\n",
       "    </tr>\n",
       "    <tr>\n",
       "      <th>Offensive Language</th>\n",
       "      <td>(18944.780550997908, 0.0)</td>\n",
       "      <td>(38957.241003864925, 0.0)</td>\n",
       "      <td>(8579.123035496303, 0.0)</td>\n",
       "      <td>-</td>\n",
       "    </tr>\n",
       "  </tbody>\n",
       "</table>\n",
       "</div>"
      ],
      "text/plain": [
       "                                        Force         Abuse of Authority  \\\n",
       "Force                                       -  (10232.344328470042, 0.0)   \n",
       "Abuse of Authority   (40182.80446848602, 0.0)                          -   \n",
       "Discourtesy          (5034.449548152231, 0.0)  (21658.992223152964, 0.0)   \n",
       "Offensive Language  (18944.780550997908, 0.0)  (38957.241003864925, 0.0)   \n",
       "\n",
       "                                 Discourtesy         Offensive Language  \n",
       "Force               (9416.614984003128, 0.0)  (182131.38418218135, 0.0)  \n",
       "Abuse of Authority  (79803.33549550411, 0.0)   (802616.7672404953, 0.0)  \n",
       "Discourtesy                                -  (46072.406290376166, 0.0)  \n",
       "Offensive Language  (8579.123035496303, 0.0)                          -  "
      ]
     },
     "execution_count": 96,
     "metadata": {},
     "output_type": "execute_result"
    }
   ],
   "source": [
    "data_chi = [chi_f, chi_a, chi_d, chi_o]\n",
    "df_chi = pd.DataFrame(data_chi, index=['Force', 'Abuse of Authority', 'Discourtesy', 'Offensive Language'], columns=['Force', 'Abuse of Authority', 'Discourtesy', 'Offensive Language'])\n",
    "print('Chi-Square Test Results Between Violation Categories - Critical Value: 3.841, Sig. Level = 0.05')\n",
    "df_chi.head()"
   ]
  },
  {
   "cell_type": "code",
   "execution_count": null,
   "metadata": {},
   "outputs": [],
   "source": [
    "chi_f2 = ['-',chisquare([sub_rateF, sub_rateA]),chisquare([sub_rateF, sub_rateD]),chisquare([sub_rateF, sub_rateO])]\n",
    "\n",
    "chi_a2 = [chisquare([sub_rateA, sub_rateF]),'-',chisquare([sub_rateA, sub_rateD]),chisquare([sub_rateA, sub_rateO])]\n",
    "\n",
    "chi_d2 = [chisquare([sub_rateD, sub_rateF]),chisquare([sub_rateD, sub_rateA]),'-',chisquare([sub_rateD, sub_rateO])]\n",
    "\n",
    "chi_o2 = [chisquare([sub_rateO, sub_rateF]),chisquare([sub_rateO, sub_rateA]),chisquare([sub_rateO, sub_rateD]),'-']"
   ]
  },
  {
   "cell_type": "code",
   "execution_count": null,
   "metadata": {},
   "outputs": [],
   "source": [
    "data_chi2 = [chi_f, chi_a, chi_d, chi_o]\n",
    "df_chi2 = pd.DataFrame(data_chi2, index=['Force', 'Abuse of Authority', 'Discourtesy', \n",
    "                              'Offensive Language'], columns=['Force', 'Abuse of Authority', 'Discourtesy', \n",
    "                              'Offensive Language'])\n",
    "print('Chi-Square Test Results Between Violation Categories - Critical Value: 3.841, Sig. Level = 0.05')\n",
    "df_chi2.head()"
   ]
  },
  {
   "cell_type": "code",
   "execution_count": 7,
   "metadata": {},
   "outputs": [],
   "source": [
    "pd.set_option('mode.chained_assignment', None)"
   ]
  },
  {
   "cell_type": "code",
   "execution_count": 8,
   "metadata": {},
   "outputs": [
    {
     "data": {
      "text/plain": [
       "count    256.000000\n",
       "mean       2.066406\n",
       "std        0.982935\n",
       "min        0.000000\n",
       "25%        1.000000\n",
       "50%        2.000000\n",
       "75%        3.000000\n",
       "max        5.000000\n",
       "Name: Penalty/Substantiated Case, dtype: float64"
      ]
     },
     "execution_count": 8,
     "metadata": {},
     "output_type": "execute_result"
    }
   ],
   "source": [
    "f_sub = ccrb_data[ccrb_data['substantiated_Force'] > 0]\n",
    "f_sub['Penalty/Substantiated Case'] = f_sub['Penalty_Force']/f_sub['substantiated_Force']\n",
    "f_meanPenalty = f_sub['Penalty/Substantiated Case'].mean()\n",
    "f_sub['Penalty/Substantiated Case'].describe()"
   ]
  },
  {
   "cell_type": "code",
   "execution_count": 9,
   "metadata": {},
   "outputs": [
    {
     "data": {
      "text/plain": [
       "count    2258.000000\n",
       "mean        1.543334\n",
       "std         0.777515\n",
       "min         0.000000\n",
       "25%         1.000000\n",
       "50%         1.000000\n",
       "75%         2.000000\n",
       "max         5.000000\n",
       "Name: Penalty/Substantiated Case, dtype: float64"
      ]
     },
     "execution_count": 9,
     "metadata": {},
     "output_type": "execute_result"
    }
   ],
   "source": [
    "a_sub = ccrb_data[ccrb_data['substantiated_Abuse of Authority'] > 0]\n",
    "a_sub['Penalty/Substantiated Case'] = a_sub['Penalty_Abuse of Authority']/a_sub['substantiated_Abuse of Authority']\n",
    "a_meanPenalty = a_sub['Penalty/Substantiated Case'].mean()\n",
    "a_sub['Penalty/Substantiated Case'].describe()"
   ]
  },
  {
   "cell_type": "code",
   "execution_count": 10,
   "metadata": {},
   "outputs": [
    {
     "data": {
      "text/plain": [
       "count    517.000000\n",
       "mean       1.737911\n",
       "std        0.901374\n",
       "min        0.000000\n",
       "25%        1.000000\n",
       "50%        2.000000\n",
       "75%        2.000000\n",
       "max        5.000000\n",
       "Name: Penalty/Substantiated Case, dtype: float64"
      ]
     },
     "execution_count": 10,
     "metadata": {},
     "output_type": "execute_result"
    }
   ],
   "source": [
    "d_sub = ccrb_data[ccrb_data['substantiated_Discourtesy'] > 0]\n",
    "d_sub['Penalty/Substantiated Case'] = d_sub['Penalty_Discourtesy']/d_sub['substantiated_Discourtesy']\n",
    "d_meanPenalty = d_sub['Penalty/Substantiated Case'].mean()\n",
    "d_sub['Penalty/Substantiated Case'].describe()"
   ]
  },
  {
   "cell_type": "code",
   "execution_count": 11,
   "metadata": {},
   "outputs": [
    {
     "data": {
      "text/plain": [
       "count    57.000000\n",
       "mean      1.754386\n",
       "std       1.073724\n",
       "min       0.000000\n",
       "25%       1.000000\n",
       "50%       2.000000\n",
       "75%       2.000000\n",
       "max       5.000000\n",
       "Name: Penalty/Substantiated Case, dtype: float64"
      ]
     },
     "execution_count": 11,
     "metadata": {},
     "output_type": "execute_result"
    }
   ],
   "source": [
    "o_sub = ccrb_data[ccrb_data['substantiated_Offensive Language'] > 0]\n",
    "o_sub['Penalty/Substantiated Case'] = o_sub['Penalty_Offensive Language']/o_sub['substantiated_Offensive Language']\n",
    "o_meanPenalty = o_sub['Penalty/Substantiated Case'].mean()\n",
    "o_sub['Penalty/Substantiated Case'].describe()"
   ]
  },
  {
   "cell_type": "code",
   "execution_count": 12,
   "metadata": {},
   "outputs": [
    {
     "data": {
      "text/html": [
       "<div>\n",
       "<style scoped>\n",
       "    .dataframe tbody tr th:only-of-type {\n",
       "        vertical-align: middle;\n",
       "    }\n",
       "\n",
       "    .dataframe tbody tr th {\n",
       "        vertical-align: top;\n",
       "    }\n",
       "\n",
       "    .dataframe thead th {\n",
       "        text-align: right;\n",
       "    }\n",
       "</style>\n",
       "<table border=\"1\" class=\"dataframe\">\n",
       "  <thead>\n",
       "    <tr style=\"text-align: right;\">\n",
       "      <th></th>\n",
       "      <th>Mean Penalty / Substantiated Case</th>\n",
       "    </tr>\n",
       "  </thead>\n",
       "  <tbody>\n",
       "    <tr>\n",
       "      <th>Force</th>\n",
       "      <td>2.066406</td>\n",
       "    </tr>\n",
       "    <tr>\n",
       "      <th>Abuse of Authority</th>\n",
       "      <td>1.543334</td>\n",
       "    </tr>\n",
       "    <tr>\n",
       "      <th>Discourtesy</th>\n",
       "      <td>1.737911</td>\n",
       "    </tr>\n",
       "    <tr>\n",
       "      <th>Offensive Language</th>\n",
       "      <td>1.754386</td>\n",
       "    </tr>\n",
       "  </tbody>\n",
       "</table>\n",
       "</div>"
      ],
      "text/plain": [
       "                    Mean Penalty / Substantiated Case\n",
       "Force                                        2.066406\n",
       "Abuse of Authority                           1.543334\n",
       "Discourtesy                                  1.737911\n",
       "Offensive Language                           1.754386"
      ]
     },
     "execution_count": 12,
     "metadata": {},
     "output_type": "execute_result"
    }
   ],
   "source": [
    "data_meanPenalty = [f_meanPenalty, a_meanPenalty, d_meanPenalty, o_meanPenalty]\n",
    "df_meanPenalty = pd.DataFrame(data_meanPenalty, index=['Force', 'Abuse of Authority', 'Discourtesy', \n",
    "                              'Offensive Language'], columns=['Mean Penalty / Substantiated Case'])\n",
    "df_meanPenalty.head()"
   ]
  },
  {
   "cell_type": "markdown",
   "metadata": {},
   "source": [
    "comparing distributions of penalties between FADO (T-Test)"
   ]
  },
  {
   "cell_type": "code",
   "execution_count": 57,
   "metadata": {},
   "outputs": [],
   "source": [
    "f_a = stats.ks_2samp(f_sub['Penalty/Substantiated Case'], a_sub['Penalty/Substantiated Case'])\n",
    "f_d = stats.ks_2samp(f_sub['Penalty/Substantiated Case'], d_sub['Penalty/Substantiated Case'])\n",
    "f_o = stats.ks_2samp(f_sub['Penalty/Substantiated Case'], o_sub['Penalty/Substantiated Case'])\n",
    "\n",
    "a_f = stats.ks_2samp(a_sub['Penalty/Substantiated Case'], f_sub['Penalty/Substantiated Case'])\n",
    "a_d = stats.ks_2samp(a_sub['Penalty/Substantiated Case'], d_sub['Penalty/Substantiated Case'])\n",
    "a_o = stats.ks_2samp(a_sub['Penalty/Substantiated Case'], o_sub['Penalty/Substantiated Case'])\n",
    "\n",
    "d_f = stats.ks_2samp(d_sub['Penalty/Substantiated Case'], f_sub['Penalty/Substantiated Case'])\n",
    "d_a = stats.ks_2samp(d_sub['Penalty/Substantiated Case'], a_sub['Penalty/Substantiated Case'])\n",
    "d_o = stats.ks_2samp(d_sub['Penalty/Substantiated Case'], o_sub['Penalty/Substantiated Case'])\n",
    "\n",
    "o_f = stats.ks_2samp(o_sub['Penalty/Substantiated Case'], f_sub['Penalty/Substantiated Case'])\n",
    "o_a = stats.ks_2samp(o_sub['Penalty/Substantiated Case'], a_sub['Penalty/Substantiated Case'])\n",
    "o_d = stats.ks_2samp(o_sub['Penalty/Substantiated Case'], d_sub['Penalty/Substantiated Case'])\n",
    "\n",
    "f_f = '-'\n",
    "a_a = '-'\n",
    "d_d = '-'\n",
    "o_o = '-'"
   ]
  },
  {
   "cell_type": "code",
   "execution_count": 58,
   "metadata": {},
   "outputs": [
    {
     "name": "stdout",
     "output_type": "stream",
     "text": [
      "P-Values of K-S Two Sample Tests\n"
     ]
    },
    {
     "data": {
      "text/html": [
       "<div>\n",
       "<style scoped>\n",
       "    .dataframe tbody tr th:only-of-type {\n",
       "        vertical-align: middle;\n",
       "    }\n",
       "\n",
       "    .dataframe tbody tr th {\n",
       "        vertical-align: top;\n",
       "    }\n",
       "\n",
       "    .dataframe thead th {\n",
       "        text-align: right;\n",
       "    }\n",
       "</style>\n",
       "<table border=\"1\" class=\"dataframe\">\n",
       "  <thead>\n",
       "    <tr style=\"text-align: right;\">\n",
       "      <th></th>\n",
       "      <th>Force</th>\n",
       "      <th>Abuse of Authority</th>\n",
       "      <th>Discourtesy</th>\n",
       "      <th>Offensive Language</th>\n",
       "    </tr>\n",
       "  </thead>\n",
       "  <tbody>\n",
       "    <tr>\n",
       "      <th>Force</th>\n",
       "      <td>-</td>\n",
       "      <td>(0.27522500201917893, 5.396480030647428e-31)</td>\n",
       "      <td>(0.27692153119662416, 3.5593785959673684e-21)</td>\n",
       "      <td>(0.19322684750194044, 0.005037418895472601)</td>\n",
       "    </tr>\n",
       "    <tr>\n",
       "      <th>Abuse of Authority</th>\n",
       "      <td>(0.27522500201917893, 5.396480030647428e-31)</td>\n",
       "      <td>-</td>\n",
       "      <td>(0.08061370236942755, 0.0006912375818223238)</td>\n",
       "      <td>(0.14273131448703968, 0.048701274842030795)</td>\n",
       "    </tr>\n",
       "    <tr>\n",
       "      <th>Discourtesy</th>\n",
       "      <td>(0.27692153119662416, 3.5593785959673684e-21)</td>\n",
       "      <td>(0.08061370236942755, 0.0006912375818223238)</td>\n",
       "      <td>-</td>\n",
       "      <td>(0.08369468369468369, 0.5888490779678441)</td>\n",
       "    </tr>\n",
       "    <tr>\n",
       "      <th>Offensive Language</th>\n",
       "      <td>(0.19322684750194044, 0.005037418895472601)</td>\n",
       "      <td>(0.14273131448703968, 0.048701274842030795)</td>\n",
       "      <td>(0.08369468369468369, 0.5888490779678441)</td>\n",
       "      <td>-</td>\n",
       "    </tr>\n",
       "  </tbody>\n",
       "</table>\n",
       "</div>"
      ],
      "text/plain": [
       "                                                            Force  \\\n",
       "Force                                                           -   \n",
       "Abuse of Authority   (0.27522500201917893, 5.396480030647428e-31)   \n",
       "Discourtesy         (0.27692153119662416, 3.5593785959673684e-21)   \n",
       "Offensive Language    (0.19322684750194044, 0.005037418895472601)   \n",
       "\n",
       "                                              Abuse of Authority  \\\n",
       "Force               (0.27522500201917893, 5.396480030647428e-31)   \n",
       "Abuse of Authority                                             -   \n",
       "Discourtesy         (0.08061370236942755, 0.0006912375818223238)   \n",
       "Offensive Language   (0.14273131448703968, 0.048701274842030795)   \n",
       "\n",
       "                                                      Discourtesy  \\\n",
       "Force               (0.27692153119662416, 3.5593785959673684e-21)   \n",
       "Abuse of Authority   (0.08061370236942755, 0.0006912375818223238)   \n",
       "Discourtesy                                                     -   \n",
       "Offensive Language      (0.08369468369468369, 0.5888490779678441)   \n",
       "\n",
       "                                             Offensive Language  \n",
       "Force               (0.19322684750194044, 0.005037418895472601)  \n",
       "Abuse of Authority  (0.14273131448703968, 0.048701274842030795)  \n",
       "Discourtesy           (0.08369468369468369, 0.5888490779678441)  \n",
       "Offensive Language                                            -  "
      ]
     },
     "execution_count": 58,
     "metadata": {},
     "output_type": "execute_result"
    }
   ],
   "source": [
    "data_ks = [[f_f, f_a, f_d, f_o] , [a_f, a_a, a_d, a_o], [d_f, d_a, d_d, d_o], [o_f, o_a, o_d, o_o]]\n",
    "df_ks = pd.DataFrame(data_ks, index=['Force', 'Abuse of Authority', 'Discourtesy', \n",
    "                              'Offensive Language'], columns=['Force', 'Abuse of Authority', 'Discourtesy', \n",
    "                              'Offensive Language'])\n",
    "print('P-Values of K-S Two Sample Tests')\n",
    "df_ks.head()"
   ]
  },
  {
   "cell_type": "code",
   "execution_count": 77,
   "metadata": {},
   "outputs": [
    {
     "data": {
      "image/png": "[encoded data removed]",
      "text/plain": [
       "<Figure size 1152x864 with 4 Axes>"
      ]
     },
     "metadata": {
      "needs_background": "light"
     },
     "output_type": "display_data"
    }
   ],
   "source": [
    "fig, axes = plt.subplots(nrows=2, ncols=2, figsize=(16,12))\n",
    "\n",
    "ax1 = axes[0][0]\n",
    "ax2 = axes[0][1]\n",
    "ax3 = axes[1][0]\n",
    "ax4 = axes[1][1]\n",
    "\n",
    "ax1.hist(f_sub['Penalty/Substantiated Case'], color='deepskyblue')\n",
    "ax1.set_ylabel('Case Count',fontsize=12)\n",
    "ax1.set_xlabel('Penalty Severity Rating',fontsize=12)\n",
    "ax1.set_title('Force',fontsize=16)\n",
    "\n",
    "ax2.hist(a_sub['Penalty/Substantiated Case'], color='mediumaquamarine')\n",
    "ax2.set_ylabel('Case Count',fontsize=12)\n",
    "ax2.set_xlabel('Penalty Severity Rating',fontsize=12)\n",
    "ax2.set_title('Abuse of Authority',fontsize=16)\n",
    "\n",
    "ax3.hist(d_sub['Penalty/Substantiated Case'], color='orchid')\n",
    "ax3.set_ylabel('Case Count',fontsize=12)\n",
    "ax3.set_xlabel('Penalty Severity Rating',fontsize=12)\n",
    "ax3.set_title('Discourtesy',fontsize=16)\n",
    "\n",
    "ax4.hist(o_sub['Penalty/Substantiated Case'])\n",
    "ax4.set_ylabel('Case Count',fontsize=12)\n",
    "ax4.set_xlabel('Penalty Severity Rating',fontsize=12)\n",
    "ax4.set_title('Offensive Language',fontsize=16)\n",
    "\n",
    "fig.subplots_adjust(hspace = 0.3)\n",
    "fig.suptitle('Penalty Distributions for Each Substantiated Case Type', fontsize=16)\n",
    "plt.show()"
   ]
  },
  {
   "cell_type": "code",
   "execution_count": null,
   "metadata": {},
   "outputs": [],
   "source": [
    "fig, axes = plt.subplots(nrows=4, ncols=2, figsize=(18,24))\n",
    "\n",
    "ax1 = axes[0][0]\n",
    "ax2 = axes[0][1]\n",
    "ax3 = axes[1][0]\n",
    "ax4 = axes[1][1]\n",
    "ax5 = axes[2][0]\n",
    "ax6 = axes[2][1]\n",
    "ax7 = axes[3][0]\n",
    "ax8 = axes[3][1]\n",
    "\n",
    "taxi0Viz.plot(ax=ax1, column='vehicle_count', cmap='RdBu_r', legend=True)\n",
    "taxi1Viz.plot(ax=ax2, column='vehicle_count', cmap='RdBu_r', legend=True)\n",
    "taxi2Viz.plot(ax=ax3, column='vehicle_count', cmap='RdBu_r', legend=True)\n",
    "taxi3Viz.plot(ax=ax4, column='vehicle_count', cmap='RdBu_r', legend=True)\n",
    "taxi4Viz.plot(ax=ax5, column='vehicle_count', cmap='RdBu_r', legend=True)\n",
    "taxi5Viz.plot(ax=ax6, column='vehicle_count', cmap='RdBu_r', legend=True)\n",
    "taxi6Viz.plot(ax=ax7, column='vehicle_count', cmap='RdBu_r', legend=True)\n",
    "\n",
    "fig.suptitle('Spacial Distribution of Drop-off Locations by Day of Week', fontsize=16)\n",
    "plt.show()"
   ]
  },
  {
   "cell_type": "code",
   "execution_count": null,
   "metadata": {},
   "outputs": [],
   "source": [
    "taxi0Viz.plot(figsize=(10,10), column='vehicle_count', cmap='RdBu_r', legend=True)\n",
    "taxi1Viz.plot(figsize=(10,10), column='vehicle_count', cmap='RdBu_r', legend=True)\n",
    "taxi2Viz.plot(figsize=(10,10), column='vehicle_count', cmap='RdBu_r', legend=True)\n",
    "taxi3Viz.plot(figsize=(10,10), column='vehicle_count', cmap='RdBu_r', legend=True)\n",
    "taxi4Viz.plot(figsize=(10,10), column='vehicle_count', cmap='RdBu_r', legend=True)\n",
    "taxi5Viz.plot(figsize=(10,10), column='vehicle_count', cmap='RdBu_r', legend=True)\n",
    "taxi6Viz.plot(figsize=(10,10), column='vehicle_count', cmap='RdBu_r', legend=True)"
   ]
  }
 ],
 "metadata": {
  "kernelspec": {
   "display_name": "Python 3",
   "language": "python",
   "name": "python3"
  },
  "language_info": {
   "codemirror_mode": {
    "name": "ipython",
    "version": 3
   },
   "file_extension": ".py",
   "mimetype": "text/x-python",
   "name": "python",
   "nbconvert_exporter": "python",
   "pygments_lexer": "ipython3",
   "version": "3.7.6"
  }
 },
 "nbformat": 4,
 "nbformat_minor": 4
}
